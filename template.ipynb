{
 "cells": [
  {
   "cell_type": "code",
   "execution_count": 22,
   "id": "bc5eaa6a",
   "metadata": {},
   "outputs": [],
   "source": [
    "# import dependencies\n",
    "import pandas as pd\n",
    "\n",
    "# add another depencency (library) such as koalas?"
   ]
  },
  {
   "cell_type": "code",
   "execution_count": 23,
   "id": "66a57bbd",
   "metadata": {},
   "outputs": [],
   "source": [
    "# Load the datasets\n",
    "parks_df = pd.read_csv('csv files/parks.csv')\n",
    "observations_df = pd.read_csv('csv files/observations.csv')\n",
    "species_info_df = pd.read_csv('csv files/species_info.csv')"
   ]
  },
  {
   "cell_type": "code",
   "execution_count": 24,
   "id": "2503f254",
   "metadata": {},
   "outputs": [],
   "source": [
    "# Step 1: Replace \"Bryce Canyon National Park\" with \"Bryce National Park\"\n",
    "parks_df['Park Name'] = parks_df['Park Name'].replace(\"Bryce Canyon National Park\", \"Bryce National Park\")"
   ]
  },
  {
   "cell_type": "code",
   "execution_count": 25,
   "id": "2347cb2a",
   "metadata": {},
   "outputs": [],
   "source": [
    "# Step 2: Rename columns\n",
    "parks_df.rename(columns={\n",
    "    'Park Name': 'park_name',\n",
    "    'Park Code': 'park_code'\n",
    "}, inplace=True)"
   ]
  },
  {
   "cell_type": "code",
   "execution_count": 26,
   "id": "656dda83",
   "metadata": {},
   "outputs": [],
   "source": [
    "# Save the updated parks.csv\n",
    "parks_df.to_csv('csv files/parks_updated.csv', index=False)"
   ]
  },
  {
   "cell_type": "code",
   "execution_count": 27,
   "id": "c0455ab1",
   "metadata": {},
   "outputs": [],
   "source": [
    "# Step 3: Use observations as base and join with parks on 'park_name'\n",
    "combined_df = pd.merge(observations_df, parks_df, how='left', on='park_name')"
   ]
  },
  {
   "cell_type": "code",
   "execution_count": 28,
   "id": "52325179",
   "metadata": {},
   "outputs": [],
   "source": [
    "# Step 4: Join the result with species_info on 'scientific_name'\n",
    "combined_df = pd.merge(combined_df, species_info_df, how='left', on='scientific_name')"
   ]
  },
  {
   "cell_type": "code",
   "execution_count": 33,
   "id": "ab062e4a",
   "metadata": {},
   "outputs": [],
   "source": [
    "# # Step 5: Save the final dataset\n",
    "combined_df.to_csv('csv files/National_Parks_Dataset.csv', index=False)\n",
    "file_path = \"csv files/National_Parks_Dataset.csv\"\n",
    "df = pd.read_csv(file_path)"
   ]
  },
  {
   "cell_type": "code",
   "execution_count": 34,
   "id": "6ca5c30c",
   "metadata": {},
   "outputs": [],
   "source": [
    "# Define the desired column order\n",
    "desired_columns = [\n",
    "    \"park_name\", \"park_code\", \"State\", \"Latitude\", \"Longitude\", \"Acres\",\n",
    "    \"category\", \"common_names\", \"scientific_name\", \"observations\", \"conservation_status\"\n",
    "]"
   ]
  },
  {
   "cell_type": "code",
   "execution_count": 35,
   "id": "08e21963",
   "metadata": {},
   "outputs": [],
   "source": [
    "# Reorder the columns\n",
    "df_reordered = df[desired_columns]"
   ]
  },
  {
   "cell_type": "code",
   "execution_count": 38,
   "id": "88493e68",
   "metadata": {},
   "outputs": [],
   "source": [
    "# Save the reordered new DataFrame to a new CSV file\n",
    "output_path = \"csv files/National_Parks_Dataset.csv\"\n",
    "df_reordered.to_csv(output_path, index=False)"
   ]
  },
  {
   "cell_type": "code",
   "execution_count": null,
   "id": "98b446c4",
   "metadata": {},
   "outputs": [],
   "source": [
    "# plot the 4 parks on a map, make it interactive with multiple filter options (category, common names, conservation status)"
   ]
  },
  {
   "cell_type": "code",
   "execution_count": null,
   "id": "ee773628",
   "metadata": {},
   "outputs": [],
   "source": [
    "# which of the 4 parks are best to see mammals, birds, fish, or plants?"
   ]
  },
  {
   "cell_type": "code",
   "execution_count": null,
   "id": "5755fc76",
   "metadata": {},
   "outputs": [],
   "source": [
    "# Create 3 tables in postgres?"
   ]
  },
  {
   "cell_type": "code",
   "execution_count": null,
   "id": "3431c1b3",
   "metadata": {},
   "outputs": [],
   "source": [
    "# create an ERD"
   ]
  },
  {
   "cell_type": "code",
   "execution_count": null,
   "id": "a7959932",
   "metadata": {},
   "outputs": [],
   "source": [
    "# The project uses one additional library not covered in class related to data engineering. (10 points)"
   ]
  },
  {
   "cell_type": "code",
   "execution_count": null,
   "id": "bccd54e8",
   "metadata": {},
   "outputs": [],
   "source": [
    "# create a readme"
   ]
  }
 ],
 "metadata": {
  "kernelspec": {
   "display_name": "dev",
   "language": "python",
   "name": "python3"
  },
  "language_info": {
   "codemirror_mode": {
    "name": "ipython",
    "version": 3
   },
   "file_extension": ".py",
   "mimetype": "text/x-python",
   "name": "python",
   "nbconvert_exporter": "python",
   "pygments_lexer": "ipython3",
   "version": "3.10.16"
  }
 },
 "nbformat": 4,
 "nbformat_minor": 5
}
