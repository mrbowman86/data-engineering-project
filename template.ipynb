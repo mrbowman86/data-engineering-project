{
 "cells": [
  {
   "cell_type": "code",
   "execution_count": null,
   "id": "bc5eaa6a",
   "metadata": {},
   "outputs": [],
   "source": [
    "# import dependencies"
   ]
  },
  {
   "cell_type": "code",
   "execution_count": null,
   "id": "04e522ec",
   "metadata": {},
   "outputs": [],
   "source": [
    "# combine all 3 csv files"
   ]
  },
  {
   "cell_type": "code",
   "execution_count": null,
   "id": "eacf4369",
   "metadata": {},
   "outputs": [],
   "source": [
    "# in the parks csv file, change any instance of Bryce Canyon National Park to Bryce National Park"
   ]
  },
  {
   "cell_type": "code",
   "execution_count": null,
   "id": "79bb1d2d",
   "metadata": {},
   "outputs": [],
   "source": [
    "# biodiversity density column creation = total number of observations / acres"
   ]
  },
  {
   "cell_type": "code",
   "execution_count": null,
   "id": "a0e06d43",
   "metadata": {},
   "outputs": [],
   "source": [
    "# unique species (or biodiversity count) per park"
   ]
  },
  {
   "cell_type": "code",
   "execution_count": null,
   "id": "98b446c4",
   "metadata": {},
   "outputs": [],
   "source": [
    "# plot parks on a map, make it interactive with filter options"
   ]
  },
  {
   "cell_type": "code",
   "execution_count": null,
   "id": "ee773628",
   "metadata": {},
   "outputs": [],
   "source": [
    "# which parks are best to see mammals, birds, fish, or plants?"
   ]
  },
  {
   "cell_type": "code",
   "execution_count": null,
   "id": "5755fc76",
   "metadata": {},
   "outputs": [],
   "source": [
    "# Create 3 tables in postgres?"
   ]
  },
  {
   "cell_type": "code",
   "execution_count": null,
   "id": "3431c1b3",
   "metadata": {},
   "outputs": [],
   "source": [
    "# create an ERD"
   ]
  },
  {
   "cell_type": "code",
   "execution_count": null,
   "id": "a7959932",
   "metadata": {},
   "outputs": [],
   "source": [
    "# The project uses one additional library not covered in class related to data engineering. (10 points)"
   ]
  },
  {
   "cell_type": "code",
   "execution_count": null,
   "id": "bccd54e8",
   "metadata": {},
   "outputs": [],
   "source": [
    "# create a readme"
   ]
  }
 ],
 "metadata": {
  "language_info": {
   "name": "python"
  }
 },
 "nbformat": 4,
 "nbformat_minor": 5
}
