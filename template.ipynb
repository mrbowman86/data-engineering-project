{
 "cells": [
  {
   "cell_type": "code",
   "execution_count": null,
   "id": "bc5eaa6a",
   "metadata": {},
   "outputs": [],
   "source": [
    "# import dependencies\n",
    "import pandas as pd\n",
    "import sqlite3\n",
    "\n",
    "# add another depencency (library) such as koalas?"
   ]
  },
  {
   "cell_type": "code",
   "execution_count": null,
   "id": "66a57bbd",
   "metadata": {},
   "outputs": [],
   "source": [
    "# Load the datasets\n",
    "parks_df = pd.read_csv('csv files/parks.csv')\n",
    "observations_df = pd.read_csv('csv files/observations.csv')\n",
    "species_info_df = pd.read_csv('csv files/species_info.csv')"
   ]
  },
  {
   "cell_type": "code",
   "execution_count": null,
   "id": "2503f254",
   "metadata": {},
   "outputs": [],
   "source": [
    "# Step 1: Replace \"Bryce Canyon National Park\" with \"Bryce National Park\"\n",
    "parks_df['Park Name'] = parks_df['Park Name'].replace(\"Bryce Canyon National Park\", \"Bryce National Park\")"
   ]
  },
  {
   "cell_type": "code",
   "execution_count": null,
   "id": "2347cb2a",
   "metadata": {},
   "outputs": [],
   "source": [
    "# Step 2: Rename columns\n",
    "parks_df.rename(columns={\n",
    "    'Park Name': 'park_name',\n",
    "    'Park Code': 'park_code'\n",
    "}, inplace=True)"
   ]
  },
  {
   "cell_type": "code",
   "execution_count": null,
   "id": "656dda83",
   "metadata": {},
   "outputs": [],
   "source": [
    "# Save the updated parks.csv\n",
    "parks_df.to_csv('csv files/parks_updated.csv', index=False)"
   ]
  },
  {
   "cell_type": "code",
   "execution_count": null,
   "id": "b71fcf93",
   "metadata": {},
   "outputs": [],
   "source": [
    "# Connect to the SQLite database\n",
    "# conn = sqlite3.connect('csv files/national_park_species_db.sql')"
   ]
  },
  {
   "cell_type": "code",
   "execution_count": null,
   "id": "f4382d0f",
   "metadata": {},
   "outputs": [],
   "source": [
    "#Create a real SQLite DB in memory or as a file\n",
    "conn = sqlite3.connect('csv files/national_park_species_db.db')\n",
    "cursor = conn.cursor()\n",
    "\n",
    "# Load and execute the SQL script\n",
    "with open('csv files/national_park_species_db.sql', 'r') as f:\n",
    "    sql_script = f.read()\n",
    "\n",
    "cursor.executescript(sql_script)\n",
    "conn.commit()"
   ]
  },
  {
   "cell_type": "code",
   "execution_count": null,
   "id": "4b46acfe",
   "metadata": {},
   "outputs": [],
   "source": [
    "# Load data from sql tables\n",
    "observations_sql_df = pd.read_sql_query(\"SELECT * FROM observations\", conn)\n",
    "parks_updated_sql_df = pd.read_sql_query(\"SELECT * FROM parks_updated\", conn)\n",
    "species_info_sql_df = pd.read_sql_query(\"SELECT * FROM species_info\", conn)"
   ]
  },
  {
   "cell_type": "code",
   "execution_count": null,
   "id": "9fb52180",
   "metadata": {},
   "outputs": [],
   "source": [
    "# from the national_park_species_db use the observations table as a base table and left join with parks_updated table on park_name\n",
    "combined_sql_df = pd.merge(observations_sql_df, parks_updated_sql_df, how=\"left\", on=\"park_name\")"
   ]
  },
  {
   "cell_type": "code",
   "execution_count": null,
   "id": "d0b180fa",
   "metadata": {},
   "outputs": [],
   "source": [
    "# Join the result with the species_info table on scientific_name using a left join\n",
    "combined_sql_df = pd.merge(combined_sql_df, species_info_sql_df, how=\"left\", on=\"scientific_name\")"
   ]
  },
  {
   "cell_type": "code",
   "execution_count": null,
   "id": "9af4a5ad",
   "metadata": {},
   "outputs": [],
   "source": [
    "# save the final dataset to a csv file called National_Parks_Datasetv2\n",
    "combined_sql_df.to_csv('csv files/National_Parks_Dataset.csv', index=False)\n",
    "file_path = \"csv files/National_Parks_Dataset.csv\"\n",
    "df = pd.read_csv(file_path)"
   ]
  },
  {
   "cell_type": "code",
   "execution_count": null,
   "id": "223c239c",
   "metadata": {},
   "outputs": [],
   "source": []
  },
  {
   "cell_type": "code",
   "execution_count": null,
   "id": "c0455ab1",
   "metadata": {},
   "outputs": [],
   "source": [
    "# Step 3: Use observations as base and join with parks on 'park_name'\n",
    "# combined_df = pd.merge(observations_df, parks_df, how='left', on='park_name')"
   ]
  },
  {
   "cell_type": "code",
   "execution_count": null,
   "id": "52325179",
   "metadata": {},
   "outputs": [],
   "source": [
    "# Step 4: Join the result with species_info on 'scientific_name'\n",
    "# combined_df = pd.merge(combined_df, species_info_df, how='left', on='scientific_name')"
   ]
  },
  {
   "cell_type": "code",
   "execution_count": null,
   "id": "ab062e4a",
   "metadata": {},
   "outputs": [],
   "source": [
    "# # Step 5: Save the final dataset\n",
    "# combined_df.to_csv('csv files/National_Parks_Dataset.csv', index=False)\n",
    "# file_path = \"csv files/National_Parks_Dataset.csv\"\n",
    "# df = pd.read_csv(file_path)"
   ]
  },
  {
   "cell_type": "code",
   "execution_count": null,
   "id": "6ca5c30c",
   "metadata": {},
   "outputs": [],
   "source": [
    "# Define the desired column order\n",
    "desired_columns = [\n",
    "    \"park_name\", \"park_code\", \"State\", \"Latitude\", \"Longitude\", \"Acres\",\n",
    "    \"category\", \"common_names\", \"scientific_name\", \"observations\", \"conservation_status\"\n",
    "]"
   ]
  },
  {
   "cell_type": "code",
   "execution_count": null,
   "id": "08e21963",
   "metadata": {},
   "outputs": [],
   "source": [
    "# Reorder the columns\n",
    "df_reordered = df[desired_columns]"
   ]
  },
  {
   "cell_type": "code",
   "execution_count": null,
   "id": "88493e68",
   "metadata": {},
   "outputs": [],
   "source": [
    "# Save the reordered new DataFrame to a new CSV file\n",
    "output_path = \"csv files/National_Parks_Dataset.csv\"\n",
    "df_reordered.to_csv(output_path, index=False)"
   ]
  }
 ],
 "metadata": {
  "kernelspec": {
   "display_name": "dev",
   "language": "python",
   "name": "python3"
  },
  "language_info": {
   "codemirror_mode": {
    "name": "ipython",
    "version": 3
   },
   "file_extension": ".py",
   "mimetype": "text/x-python",
   "name": "python",
   "nbconvert_exporter": "python",
   "pygments_lexer": "ipython3",
   "version": "3.10.16"
  }
 },
 "nbformat": 4,
 "nbformat_minor": 5
}
