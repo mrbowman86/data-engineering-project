{
 "cells": [
  {
   "cell_type": "code",
   "execution_count": 1,
   "id": "bc5eaa6a",
   "metadata": {},
   "outputs": [],
   "source": [
    "# import dependencies\n",
    "import pandas as pd\n",
    "from sqlalchemy import create_engine\n",
    "from pathlib import Path\n",
    "import sqlite3\n",
    "import polars as pl #one additional library not covered in class related to data engineering"
   ]
  },
  {
   "cell_type": "code",
   "execution_count": 2,
   "id": "66a57bbd",
   "metadata": {},
   "outputs": [],
   "source": [
    "# Load the datasets multiple ways\n",
    "parks_df = pl.read_csv('csv files/parks.csv') #loaded using Polars\n",
    "observations_df = pd.read_csv('csv files/observations.csv') #loaded using Pandas\n",
    "species_info_df = pd.read_csv('csv files/species_info.csv') #loaded using Pandas"
   ]
  },
  {
   "cell_type": "code",
   "execution_count": 3,
   "id": "2503f254",
   "metadata": {},
   "outputs": [],
   "source": [
    "# Replace \"Bryce Canyon National Park\" with \"Bryce National Park\" to match observations csv file using Polars\n",
    "parks_df = parks_df.with_columns(\n",
    "    pl.col(\"Park Name\").str.replace_all(\"Bryce Canyon National Park\", \"Bryce National Park\").alias(\"Park Name\")\n",
    ")"
   ]
  },
  {
   "cell_type": "code",
   "execution_count": 4,
   "id": "2347cb2a",
   "metadata": {},
   "outputs": [],
   "source": [
    "# Rename columns to match observations csv file using Polars\n",
    "parks_df = parks_df.rename({\n",
    "    \"Park Name\": \"park_name\",\n",
    "    \"Park Code\": \"park_code\"\n",
    "})"
   ]
  },
  {
   "cell_type": "code",
   "execution_count": 5,
   "id": "656dda83",
   "metadata": {},
   "outputs": [],
   "source": [
    "# Save a version of the updated parks csv file using Polars\n",
    "parks_df.write_csv(\"csv files/parks_updated.csv\")"
   ]
  },
  {
   "cell_type": "code",
   "execution_count": 6,
   "id": "b71fcf93",
   "metadata": {},
   "outputs": [],
   "source": [
    "# Connect the sql database that was created in pgAdmin to Jupyter file\n",
    "conn = sqlite3.connect(\"national_park_species_db.sql\")"
   ]
  },
  {
   "cell_type": "code",
   "execution_count": 7,
   "id": "aa289a89",
   "metadata": {},
   "outputs": [
    {
     "data": {
      "text/plain": [
       "23296"
      ]
     },
     "execution_count": 7,
     "metadata": {},
     "output_type": "execute_result"
    }
   ],
   "source": [
    "# Insert the observations csv file into the observations table\n",
    "observations_sql_df = pd.read_csv(\"csv files/observations.csv\")\n",
    "observations_sql_df.to_sql(\"observations\", conn, if_exists=\"append\", index=False)"
   ]
  },
  {
   "cell_type": "code",
   "execution_count": 8,
   "id": "0a53d53c",
   "metadata": {},
   "outputs": [
    {
     "data": {
      "text/plain": [
       "56"
      ]
     },
     "execution_count": 8,
     "metadata": {},
     "output_type": "execute_result"
    }
   ],
   "source": [
    "# Insert the parks_updated csv file into the parks_updated table\n",
    "parks_sql_df = pd.read_csv(\"csv files/parks_updated.csv\")\n",
    "parks_sql_df.to_sql(\"parks_updated\", conn, if_exists=\"append\", index=False)"
   ]
  },
  {
   "cell_type": "code",
   "execution_count": 9,
   "id": "6d1d29a2",
   "metadata": {},
   "outputs": [
    {
     "data": {
      "text/plain": [
       "5824"
      ]
     },
     "execution_count": 9,
     "metadata": {},
     "output_type": "execute_result"
    }
   ],
   "source": [
    "# Insert the species_info csv file into the species_info table\n",
    "species_sql_df = pd.read_csv(\"csv files/species_info.csv\")\n",
    "species_sql_df.to_sql(\"species_info\", conn, if_exists=\"append\", index=False)"
   ]
  },
  {
   "cell_type": "code",
   "execution_count": 10,
   "id": "9fb52180",
   "metadata": {},
   "outputs": [],
   "source": [
    "# from the national_park_species_db use the observations table as a base table and left join with parks_updated table on park_name\n",
    "combined_sql_df = pd.merge(observations_sql_df, parks_sql_df, how=\"left\", on=\"park_name\")"
   ]
  },
  {
   "cell_type": "code",
   "execution_count": 11,
   "id": "d0b180fa",
   "metadata": {},
   "outputs": [],
   "source": [
    "# Join the result with the species_info table on scientific_name using a left join\n",
    "combined_sql_df = pd.merge(combined_sql_df, species_sql_df, how=\"left\", on=\"scientific_name\")"
   ]
  },
  {
   "cell_type": "code",
   "execution_count": 12,
   "id": "9af4a5ad",
   "metadata": {},
   "outputs": [],
   "source": [
    "# save the final dataset to a new csv file called National_Parks_Dataset\n",
    "combined_sql_df.to_csv('csv files/National_Parks_Dataset.csv', index=False)\n",
    "file_path = \"csv files/National_Parks_Dataset.csv\"\n",
    "df = pd.read_csv(file_path)"
   ]
  },
  {
   "cell_type": "code",
   "execution_count": 13,
   "id": "6ca5c30c",
   "metadata": {},
   "outputs": [],
   "source": [
    "# Define the desired column order\n",
    "desired_columns = [\n",
    "    \"park_name\", \"park_code\", \"State\", \"Latitude\", \"Longitude\", \"Acres\",\n",
    "    \"category\", \"common_names\", \"scientific_name\", \"observations\", \"conservation_status\"\n",
    "]"
   ]
  },
  {
   "cell_type": "code",
   "execution_count": 14,
   "id": "08e21963",
   "metadata": {},
   "outputs": [],
   "source": [
    "# Reorder the columns\n",
    "df_reordered = df[desired_columns]"
   ]
  },
  {
   "cell_type": "code",
   "execution_count": 15,
   "id": "88493e68",
   "metadata": {},
   "outputs": [],
   "source": [
    "# Save the final update over the National_Parks_Dataset.csv file\n",
    "output_path = \"csv files/National_Parks_Dataset.csv\"\n",
    "df_reordered.to_csv(output_path, index=False)"
   ]
  }
 ],
 "metadata": {
  "kernelspec": {
   "display_name": "dev",
   "language": "python",
   "name": "python3"
  },
  "language_info": {
   "codemirror_mode": {
    "name": "ipython",
    "version": 3
   },
   "file_extension": ".py",
   "mimetype": "text/x-python",
   "name": "python",
   "nbconvert_exporter": "python",
   "pygments_lexer": "ipython3",
   "version": "3.10.16"
  }
 },
 "nbformat": 4,
 "nbformat_minor": 5
}
