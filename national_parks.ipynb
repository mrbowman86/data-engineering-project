{
 "cells": [
  {
   "cell_type": "code",
   "execution_count": null,
   "id": "bc5eaa6a",
   "metadata": {},
   "outputs": [],
   "source": [
    "# import dependencies\n",
    "import pandas as pd\n",
    "import psycopg2\n",
    "import polars as pl #one additional library not covered in class related to data engineering"
   ]
  },
  {
   "cell_type": "code",
   "execution_count": 2,
   "id": "66a57bbd",
   "metadata": {},
   "outputs": [],
   "source": [
    "# Load the datasets multiple ways\n",
    "parks_df = pl.read_csv('resources/parks.csv') #loaded using Polars\n",
    "observations_df = pd.read_csv('resources/observations.csv') #loaded using Pandas\n",
    "species_info_df = pd.read_csv('resources/species_info.csv') #loaded using Pandas"
   ]
  },
  {
   "cell_type": "code",
   "execution_count": 3,
   "id": "2503f254",
   "metadata": {},
   "outputs": [],
   "source": [
    "# Replace \"Bryce Canyon National Park\" with \"Bryce National Park\" to match observations csv file using Polars\n",
    "parks_df = parks_df.with_columns(\n",
    "    pl.col(\"Park Name\").str.replace_all(\"Bryce Canyon National Park\", \"Bryce National Park\").alias(\"Park Name\")\n",
    ")"
   ]
  },
  {
   "cell_type": "code",
   "execution_count": 4,
   "id": "2347cb2a",
   "metadata": {},
   "outputs": [],
   "source": [
    "# Rename columns to match observations csv file using Polars\n",
    "parks_df = parks_df.rename({\n",
    "    \"Park Name\": \"park_name\",\n",
    "    \"Park Code\": \"park_code\"\n",
    "})"
   ]
  },
  {
   "cell_type": "code",
   "execution_count": 5,
   "id": "656dda83",
   "metadata": {},
   "outputs": [],
   "source": [
    "# Save a version of the updated parks csv file using Polars\n",
    "parks_df.write_csv(\"resources/parks_updated.csv\")"
   ]
  },
  {
   "cell_type": "code",
   "execution_count": 6,
   "id": "b71fcf93",
   "metadata": {},
   "outputs": [],
   "source": [
    "# Connect the sql database that was created in pgAdmin to Jupyter file\n",
    "conn = psycopg2.connect(\n",
    "    host = \"localhost\",\n",
    "    user = \"postgres\",\n",
    "    password = \"postgres\",\n",
    "    dbname = \"national_park_species_db\",\n",
    "    port = 5432)"
   ]
  },
  {
   "cell_type": "code",
   "execution_count": 7,
   "id": "09d6b034",
   "metadata": {},
   "outputs": [],
   "source": [
    "cur = conn.cursor()"
   ]
  },
  {
   "cell_type": "code",
   "execution_count": 8,
   "id": "d572f7ac",
   "metadata": {},
   "outputs": [],
   "source": [
    "cur.execute(\"select * from observations\")\n",
    "observations = cur.fetchall()"
   ]
  },
  {
   "cell_type": "code",
   "execution_count": 9,
   "id": "32edea6e",
   "metadata": {},
   "outputs": [],
   "source": [
    "cur.execute(\"select * from parks_updated\")\n",
    "parks_updated = cur.fetchall()"
   ]
  },
  {
   "cell_type": "code",
   "execution_count": 10,
   "id": "dc671e86",
   "metadata": {},
   "outputs": [],
   "source": [
    "cur.execute(\"select * from species_info\")\n",
    "species_info = cur.fetchall()"
   ]
  },
  {
   "cell_type": "code",
   "execution_count": 11,
   "id": "db91ffbc",
   "metadata": {},
   "outputs": [
    {
     "name": "stdout",
     "output_type": "stream",
     "text": [
      "Observations (first 3 rows): [('Vicia benghalensis', 'Great Smoky Mountains National Park', 68), ('Neovison vison', 'Great Smoky Mountains National Park', 77), ('Prunus subcordata', 'Yosemite National Park', 138)]\n",
      "Parks Updated (first 3 rows): [('ACAD', 'Acadia National Park', 'ME', 47390, 44.35, -68.21), ('ARCH', 'Arches National Park', 'UT', 76519, 38.68, -109.57), ('BADL', 'Badlands National Park', 'SD', 242756, 43.75, -102.5)]\n",
      "Species Info (first 3 rows): [('Mammal', 'Clethrionomys gapperi gapperi', \"Gapper's Red-Backed Vole\", None), ('Mammal', 'Bos bison', 'American Bison, Bison', None), ('Mammal', 'Bos taurus', 'Aurochs, Aurochs, Domestic Cattle (Feral), Domesticated Cattle', None)]\n"
     ]
    }
   ],
   "source": [
    "print(\"Observations (first 3 rows):\", observations[:3])\n",
    "print(\"Parks Updated (first 3 rows):\", parks_updated[:3])\n",
    "print(\"Species Info (first 3 rows):\", species_info[:3])"
   ]
  },
  {
   "cell_type": "code",
   "execution_count": 12,
   "id": "0f57a515",
   "metadata": {},
   "outputs": [],
   "source": [
    "# Join all three tables: observations -> parks_updated -> species_info\n",
    "query = \"\"\"\n",
    "    SELECT o.*, \n",
    "           p.park_code, p.State, p.Acres, p.Latitude, p.Longitude,\n",
    "           s.category, s.common_names, s.conservation_status\n",
    "    FROM observations o\n",
    "    LEFT JOIN parks_updated p ON o.park_name = p.park_name\n",
    "    LEFT JOIN species_info s ON o.scientific_name = s.scientific_name\n",
    "\"\"\"\n",
    "\n",
    "cur.execute(query)\n",
    "final_joined_data = cur.fetchall()"
   ]
  },
  {
   "cell_type": "code",
   "execution_count": 13,
   "id": "a0bf6083",
   "metadata": {},
   "outputs": [
    {
     "name": "stdout",
     "output_type": "stream",
     "text": [
      "('Vicia benghalensis', 'Great Smoky Mountains National Park', 68, 'GRSM', 'TN, NC', 521490, 35.68, -83.53, 'Vascular Plant', 'Purple Vetch, Reddish Tufted Vetch', None)\n",
      "('Neovison vison', 'Great Smoky Mountains National Park', 77, 'GRSM', 'TN, NC', 521490, 35.68, -83.53, 'Mammal', 'American Mink', None)\n",
      "('Prunus subcordata', 'Yosemite National Park', 138, 'YOSE', 'CA', 761266, 37.83, -119.5, 'Vascular Plant', 'Klamath Plum', None)\n"
     ]
    }
   ],
   "source": [
    "# Preview result\n",
    "for row in final_joined_data[:3]:\n",
    "    print(row)"
   ]
  },
  {
   "cell_type": "code",
   "execution_count": 14,
   "id": "052590a9",
   "metadata": {},
   "outputs": [],
   "source": [
    "# Define original column order from SELECT statement\n",
    "original_columns = [\n",
    "    'scientific_name', 'park_name', 'observations',\n",
    "    'park_code', 'State', 'Acres', 'Latitude', 'Longitude',\n",
    "    'category', 'common_names', 'conservation_status'\n",
    "]"
   ]
  },
  {
   "cell_type": "code",
   "execution_count": 15,
   "id": "c029b362",
   "metadata": {},
   "outputs": [],
   "source": [
    "# Convert to DataFrame\n",
    "df = pd.DataFrame(final_joined_data, columns=original_columns)"
   ]
  },
  {
   "cell_type": "code",
   "execution_count": 16,
   "id": "e17bdfe2",
   "metadata": {},
   "outputs": [],
   "source": [
    "# ✅ Reorder the columns as desired\n",
    "new_order = [\n",
    "    'park_name', 'park_code', 'State', 'Latitude', 'Longitude', 'Acres',\n",
    "    'category', 'common_names', 'scientific_name', 'observations', 'conservation_status'\n",
    "]\n",
    "\n",
    "df = df[new_order]"
   ]
  },
  {
   "cell_type": "code",
   "execution_count": 17,
   "id": "7446b7a7",
   "metadata": {},
   "outputs": [],
   "source": [
    "# Save to CSV\n",
    "df.to_csv(\"resources/National_Parks_Dataset.csv\", index=False)"
   ]
  }
 ],
 "metadata": {
  "kernelspec": {
   "display_name": "dev",
   "language": "python",
   "name": "python3"
  },
  "language_info": {
   "codemirror_mode": {
    "name": "ipython",
    "version": 3
   },
   "file_extension": ".py",
   "mimetype": "text/x-python",
   "name": "python",
   "nbconvert_exporter": "python",
   "pygments_lexer": "ipython3",
   "version": "3.10.16"
  }
 },
 "nbformat": 4,
 "nbformat_minor": 5
}
